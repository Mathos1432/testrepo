{
  "cells": [
    {
      "cell_type": "code",
      "source": [
        "print(\"hello team!\")"
      ],
      "outputs": [
        {
          "output_type": "stream",
          "name": "stdout",
          "text": [
            "hello\n"
          ]
        }
      ],
      "execution_count": 1,
      "metadata": {
        "collapsed": true,
        "execution": {
          "iopub.execute_input": "2023-05-04T21:43:12.040Z",
          "iopub.status.busy": "2023-05-04T21:43:12.025Z",
          "iopub.status.idle": "2023-05-04T21:43:12.433Z",
          "shell.execute_reply": "2023-05-04T21:43:12.498Z"
        },
        "jupyter": {
          "outputs_hidden": false,
          "source_hidden": false
        },
        "nteract": {
          "transient": {
            "deleting": false
          }
        },
        "trusted": true
      },
      "id": "64677257-9b53-4374-840e-bee1b6f2150e"
    }
  ],
  "metadata": {
    "language_info": {
      "name": "python",
      "version": "3.7",
      "mimetype": "application/json",
      "file_extension": "ipynb"
    },
    "nteract": {
      "version": "dataExplorer 1.0"
    }
  },
  "nbformat": 4,
  "nbformat_minor": 5
}